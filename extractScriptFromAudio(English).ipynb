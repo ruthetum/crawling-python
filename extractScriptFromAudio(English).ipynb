{
  "nbformat": 4,
  "nbformat_minor": 0,
  "metadata": {
    "colab": {
      "name": "extractScriptFromAudio(English).ipynb",
      "provenance": [],
      "collapsed_sections": [],
      "authorship_tag": "ABX9TyOzIVemcj45lDo6gRlZGmZx",
      "include_colab_link": true
    },
    "kernelspec": {
      "name": "python3",
      "display_name": "Python 3"
    }
  },
  "cells": [
    {
      "cell_type": "markdown",
      "metadata": {
        "id": "view-in-github",
        "colab_type": "text"
      },
      "source": [
        "<a href=\"https://colab.research.google.com/github/ruthetum/crawling-python/blob/master/extractScriptFromAudio(English).ipynb\" target=\"_parent\"><img src=\"https://colab.research.google.com/assets/colab-badge.svg\" alt=\"Open In Colab\"/></a>"
      ]
    },
    {
      "cell_type": "code",
      "metadata": {
        "id": "eNY7_Ue6ANWI",
        "colab_type": "code",
        "outputId": "674ab3a4-9b57-4f9c-cdf3-44f144d2a468",
        "colab": {
          "base_uri": "https://localhost:8080/",
          "height": 34
        }
      },
      "source": [
        "from google.colab import drive\n",
        "drive.mount('/content/gdrive')"
      ],
      "execution_count": 0,
      "outputs": [
        {
          "output_type": "stream",
          "text": [
            "Drive already mounted at /content/gdrive; to attempt to forcibly remount, call drive.mount(\"/content/gdrive\", force_remount=True).\n"
          ],
          "name": "stdout"
        }
      ]
    },
    {
      "cell_type": "code",
      "metadata": {
        "id": "GUGYv09xAO7M",
        "colab_type": "code",
        "outputId": "28b834e3-2f33-4a60-b21c-3edf6b5019b8",
        "colab": {
          "base_uri": "https://localhost:8080/",
          "height": 52
        }
      },
      "source": [
        "import sys\n",
        "import os\n",
        "\n",
        "curPath = os.getcwd()\n",
        "print(curPath)\n",
        "\n",
        "os.chdir('gdrive/My Drive/Colab Notebooks/extract-script/data')\n",
        "\n",
        "curPath = os.getcwd()\n",
        "print(curPath)"
      ],
      "execution_count": 0,
      "outputs": [
        {
          "output_type": "stream",
          "text": [
            "/content\n",
            "/content/gdrive/My Drive/Colab Notebooks/extract-script/data\n"
          ],
          "name": "stdout"
        }
      ]
    },
    {
      "cell_type": "code",
      "metadata": {
        "id": "6lVsPxB7ASKU",
        "colab_type": "code",
        "outputId": "666c9997-7101-41b1-ba44-2c84372e8dce",
        "colab": {
          "base_uri": "https://localhost:8080/",
          "height": 34
        }
      },
      "source": [
        "!pip install SpeechRecognition"
      ],
      "execution_count": 0,
      "outputs": [
        {
          "output_type": "stream",
          "text": [
            "Requirement already satisfied: SpeechRecognition in /usr/local/lib/python3.6/dist-packages (3.8.1)\n"
          ],
          "name": "stdout"
        }
      ]
    },
    {
      "cell_type": "code",
      "metadata": {
        "id": "DShXqHLUCGrx",
        "colab_type": "code",
        "outputId": "69150041-be69-4141-9366-76bfa50cfd2d",
        "colab": {
          "base_uri": "https://localhost:8080/",
          "height": 52
        }
      },
      "source": [
        "import speech_recognition as sr\n",
        "r = sr.Recognizer()\n",
        "\n",
        "with sr.AudioFile(\"IMG_1786_Audio.wav\") as source:\n",
        "  audio = r.record(source)\n",
        "  try:\n",
        "    text = r.recognize_google(audio)\n",
        "    print(\"Working on...\")\n",
        "    print(text)\n",
        "  except:\n",
        "    print(\"Sorry...Run again...\")"
      ],
      "execution_count": 0,
      "outputs": [
        {
          "output_type": "stream",
          "text": [
            "Working on...\n",
            "안녕 나는 감자야 나는 살구야 나는 오이야 우리가 너무 좋아 수박도 좋아\n"
          ],
          "name": "stdout"
        }
      ]
    },
    {
      "cell_type": "code",
      "metadata": {
        "id": "uE9j4PvwDA4Z",
        "colab_type": "code",
        "colab": {}
      },
      "source": [
        "with open(\"rec_google_kor.txt\", \"w\") as script:\n",
        "            script.write(text)"
      ],
      "execution_count": 0,
      "outputs": []
    }
  ]
}