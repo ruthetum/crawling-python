{
  "nbformat": 4,
  "nbformat_minor": 0,
  "metadata": {
    "colab": {
      "name": "everytimeCrawling.ipynb",
      "provenance": [],
      "collapsed_sections": [],
      "authorship_tag": "ABX9TyOwH3klQ+9iYkR1yXtZYo/W",
      "include_colab_link": true
    },
    "kernelspec": {
      "name": "python3",
      "display_name": "Python 3"
    }
  },
  "cells": [
    {
      "cell_type": "markdown",
      "metadata": {
        "id": "view-in-github",
        "colab_type": "text"
      },
      "source": [
        "<a href=\"https://colab.research.google.com/github/ruthetum/crawling-python/blob/master/everytimeCrawling.ipynb\" target=\"_parent\"><img src=\"https://colab.research.google.com/assets/colab-badge.svg\" alt=\"Open In Colab\"/></a>"
      ]
    },
    {
      "cell_type": "code",
      "metadata": {
        "id": "Scdkxj38QsI6",
        "colab_type": "code",
        "colab": {}
      },
      "source": [
        "import requests\n",
        "from bs4 import BeautifulSoup\n",
        "import json\n",
        "\n",
        "login_url = 'https://skku.everytime.kr/user/login'\n",
        "api_url = 'https://api.everytime.kr'\n",
        "mypage_url = 'https://everytime.kr/370444/p/1'\n",
        "\n",
        "user = '아이디'\n",
        "password = '비밀번호'"
      ],
      "execution_count": 0,
      "outputs": []
    },
    {
      "cell_type": "code",
      "metadata": {
        "id": "CDDmT5kzUSps",
        "colab_type": "code",
        "colab": {}
      },
      "source": [
        "session = requests.session()\n",
        "\n",
        "params = dict()\n",
        "params['userid'] = user\n",
        "params['password'] = password\n",
        "params['redirect'] = '/'\n",
        "\n",
        "res = session.post(login_url, data = params)"
      ],
      "execution_count": 0,
      "outputs": []
    },
    {
      "cell_type": "code",
      "metadata": {
        "id": "9O6c52sfUWpM",
        "colab_type": "code",
        "colab": {
          "base_uri": "https://localhost:8080/",
          "height": 439
        },
        "outputId": "35c384b8-a291-48a7-c0c4-2a5b677ee377"
      },
      "source": [
        "with requests.Session() as s:\n",
        "    login_res = s.post(login_url, data=params)\n",
        "\n",
        "    if login_res.status_code != 200:\n",
        "        raise Exception('Log-in Failed')\n",
        "\n",
        "    everytime_board_list = s.post(api_url + '/find/board/article/list', data={\n",
        "        'id': 370444,\n",
        "        'limit_num': 20,\n",
        "        'start_num': 0,\n",
        "        'moiminfo': True,\n",
        "    })\n",
        "    print(everytime_board_list.text)"
      ],
      "execution_count": 18,
      "outputs": [
        {
          "output_type": "stream",
          "text": [
            "<?xml version=\"1.0\" encoding=\"UTF-8\"?>\n",
            "<response>\n",
            "  <article id=\"119132312\" is_mine=\"0\" title=\"집에 가루응애 나온 적 있냐,,,\" text=\"진짜진짜 무지하게 작은 벌레인데 지금 우리집 점령 당했다,,, 어쩌면 좋아,,,\" created_at=\"2020-05-02 17:41:55\" posvote=\"0\" comment=\"1\" comment_anonym=\"0\" scrap_count=\"0\" user_type=\"\" user_id=\"0\" user_nickname=\"익명\" user_picture=\"https://cf-fpi.everytime.kr/0.png\"/>\n",
            "  <article id=\"119132259\" is_mine=\"0\" title=\"여친이 전남친이랑 3달동안 알바했대\" text=\"학원 조교 일 하는데 페이도 좋고 여러모로 괜찮아서 3달동안 되게 재미있게 다니더니 알고보니까 같이 일하는 딱 하나 있는 다른 조교가 전남친이었\" created_at=\"2020-05-02 17:41:29\" posvote=\"0\" comment=\"6\" comment_anonym=\"0\" scrap_count=\"0\" user_type=\"\" user_id=\"0\" user_nickname=\"익명\" user_picture=\"https://cf-fpi.everytime.kr/0.png\"/>\n",
            "  <article id=\"119131838\" is_mine=\"0\" title=\"위넌 스카 사물함\" text=\"공유해주실 분 계신가요?\" created_at=\"2020-05-02 17:38:21\" posvote=\"0\" comment=\"0\" comment_anonym=\"0\" scrap_count=\"0\" user_type=\"\" user_id=\"0\" user_nickname=\"익명\" user_picture=\"https://cf-fpi.everytime.kr/0.png\"/>\n",
            "  <article id=\"119131543\" is_mine=\"0\" title=\"소비자와 시장\" text=\"8주차 강의듣고 있는데 내가 뭘듣고 있는건지.. 왜 들어야하는건지 모르겠네...ㅎㅎ 시험도 안봐서 더 듣기 싫다 .....\" created_at=\"2020-05-02 17:36:03\" posvote=\"0\" comment=\"2\" comment_anonym=\"0\" scrap_count=\"0\" user_type=\"\" user_id=\"0\" user_nickname=\"익명\" user_picture=\"https://cf-fpi.everytime.kr/0.png\"/>\n",
            "  <article id=\"119131265\" is_mine=\"0\" title=\"사귈때\" text=\"사귄지 얼마 안됌 난 어렸을 때부터 컴플렉스가 있었어 오른쪽 옆구리에 500짜리보다 좀 더 큰 흉터가 있음 호스 꽂느라 애기때 아팠거든  근데 \" created_at=\"2020-05-02 17:33:59\" posvote=\"0\" comment=\"3\" comment_anonym=\"0\" scrap_count=\"0\" user_type=\"\" user_id=\"0\" user_nickname=\"익명\" user_picture=\"https://cf-fpi.everytime.kr/0.png\"/>\n",
            "  <article id=\"119131226\" is_mine=\"0\" title=\"송준 중급미시\" text=\"다들 중간고사 어뗘셨음??\" created_at=\"2020-05-02 17:33:42\" posvote=\"0\" comment=\"0\" comment_anonym=\"0\" scrap_count=\"0\" user_type=\"\" user_id=\"0\" user_nickname=\"익명\" user_picture=\"https://cf-fpi.everytime.kr/0.png\"/>\n",
            "  <article id=\"119131215\" is_mine=\"0\" title=\"보수는 진짜\" text=\"망한듯.. 그냥 박근혜 이후로 모든게 망한듯 하.. 짜증난다 진짜;;\" created_at=\"2020-05-02 17:33:36\" posvote=\"0\" comment=\"6\" comment_anonym=\"0\" scrap_count=\"0\" user_type=\"\" user_id=\"0\" user_nickname=\"익명\" user_picture=\"https://cf-fpi.everytime.kr/0.png\"/>\n",
            "  <article id=\"119130984\" is_mine=\"0\" title=\"Ai활용과 기초\" text=\"다들 몇점받았어?\" created_at=\"2020-05-02 17:31:42\" posvote=\"0\" comment=\"0\" comment_anonym=\"0\" scrap_count=\"0\" user_type=\"\" user_id=\"0\" user_nickname=\"익명\" user_picture=\"https://cf-fpi.everytime.kr/0.png\"/>\n",
            "  <article id=\"119130877\" is_mine=\"0\" title=\"교수님 감사합니다\" text=\"시험기간이라고 이번주 강의 없다고 하신 교수님, 부담 덜으라고 기간 넉넉하게 올리신 교수님 ㅠ\" created_at=\"2020-05-02 17:30:53\" posvote=\"0\" comment=\"0\" comment_anonym=\"0\" scrap_count=\"0\" user_type=\"\" user_id=\"0\" user_nickname=\"익명\" user_picture=\"https://cf-fpi.everytime.kr/0.png\"/>\n",
            "  <article id=\"119130698\" is_mine=\"0\" title=\"장혜인 교수님 학점 비율\" text=\"채워주시나요..?\" created_at=\"2020-05-02 17:29:38\" posvote=\"0\" comment=\"1\" comment_anonym=\"0\" scrap_count=\"0\" user_type=\"\" user_id=\"0\" user_nickname=\"익명\" user_picture=\"https://cf-fpi.everytime.kr/0.png\"/>\n",
            "  <article id=\"119130328\" is_mine=\"0\" title=\"일반적인 포멧으로 하라는거면 한글 10포이트야?\" text=\"레퐅 제츌할때 일반적인 포멧으로 하라는 거면 10포인트야? 11포인트는 안도니느거야?\" created_at=\"2020-05-02 17:26:39\" posvote=\"0\" comment=\"2\" comment_anonym=\"0\" scrap_count=\"0\" user_type=\"\" user_id=\"0\" user_nickname=\"익명\" user_picture=\"https://cf-fpi.everytime.kr/0.png\"/>\n",
            "  <article id=\"119130314\" is_mine=\"0\" title=\"경정처.. Dss는 경영정보시스템보다\" text=\"더 규모가 크다(개발에 돈이 더 든다) 이거 맞는 문장인가요 ㅠㅠ\" created_at=\"2020-05-02 17:26:34\" posvote=\"0\" comment=\"0\" comment_anonym=\"0\" scrap_count=\"0\" user_type=\"\" user_id=\"0\" user_nickname=\"익명\" user_picture=\"https://cf-fpi.everytime.kr/0.png\"/>\n",
            "  <article id=\"119130300\" is_mine=\"0\" title=\"미문개 한 작품만으로 700단어를 채우는게\" text=\"가능한걸까요..? 지금이라도 강의 들어야하나..\" created_at=\"2020-05-02 17:26:28\" posvote=\"0\" comment=\"1\" comment_anonym=\"0\" scrap_count=\"0\" user_type=\"\" user_id=\"0\" user_nickname=\"익명\" user_picture=\"https://cf-fpi.everytime.kr/0.png\"/>\n",
            "  <article id=\"119130213\" is_mine=\"0\" title=\"워드 줄간격 0.9가 기본 디폴트야??\" text=\"한글 줄간격은 160이 디폴트인거 아는데 워드 줄간격은 기본은 뭐야? 어디서 설정함??\" created_at=\"2020-05-02 17:25:42\" posvote=\"0\" comment=\"3\" comment_anonym=\"0\" scrap_count=\"0\" user_type=\"\" user_id=\"0\" user_nickname=\"익명\" user_picture=\"https://cf-fpi.everytime.kr/0.png\"/>\n",
            "  <article id=\"119129688\" is_mine=\"0\" title=\"게하는 대부분\" text=\"방에 음식물 반입 금지야? 밤에 치맥하면서 넷플 볼랬는데 다 음식물반입 금지라네ㅠㅠ\" created_at=\"2020-05-02 17:22:02\" posvote=\"0\" comment=\"0\" comment_anonym=\"0\" scrap_count=\"0\" user_type=\"\" user_id=\"0\" user_nickname=\"익명\" user_picture=\"https://cf-fpi.everytime.kr/0.png\"/>\n",
            "  <article id=\"119129604\" is_mine=\"0\" title=\"스사문 진짜 너무 화난다\" text=\"강의 내용위주가 아니라 자료조사 위주로 해야한다는게 너무 짜증나. 1시간 짜리 수업 발음 알아듣기 힘들어서 몇번씩 돌려가면서 진짜 2-3시간씩 \" created_at=\"2020-05-02 17:21:19\" posvote=\"0\" comment=\"0\" comment_anonym=\"0\" scrap_count=\"0\" user_type=\"\" user_id=\"0\" user_nickname=\"익명\" user_picture=\"https://cf-fpi.everytime.kr/0.png\"/>\n",
            "  <article id=\"119129561\" is_mine=\"0\" title=\"경정처 한민희 교수님\" text=\"1장, 2장 정답 공유해보실분 계신가요?-?\" created_at=\"2020-05-02 17:20:56\" posvote=\"0\" comment=\"0\" comment_anonym=\"0\" scrap_count=\"0\" user_type=\"\" user_id=\"0\" user_nickname=\"익명\" user_picture=\"https://cf-fpi.everytime.kr/0.png\"/>\n",
            "  <article id=\"119129347\" is_mine=\"0\" title=\"이번주 운건\" text=\"운건 이번주차 강의 없나요??\" created_at=\"2020-05-02 17:19:18\" posvote=\"0\" comment=\"0\" comment_anonym=\"0\" scrap_count=\"0\" user_type=\"\" user_id=\"0\" user_nickname=\"익명\" user_picture=\"https://cf-fpi.everytime.kr/0.png\"/>\n",
            "  <article id=\"119129200\" is_mine=\"0\" title=\"회계 포괄손익계산서에서\" text=\"급여는 판매비, 보험료는 관리비 항목에 속하는 거 맞ㅈㅅ??  ㅠㅠ\" created_at=\"2020-05-02 17:18:00\" posvote=\"0\" comment=\"3\" comment_anonym=\"0\" scrap_count=\"0\" user_type=\"\" user_id=\"0\" user_nickname=\"익명\" user_picture=\"https://cf-fpi.everytime.kr/0.png\"/>\n",
            "  <article id=\"119128904\" is_mine=\"0\" title=\"운동인분들\" text=\"요즘 너무 체력거진데 기초체력에 좋은 운동이 뭔가요? 여자에요!\" created_at=\"2020-05-02 17:15:41\" posvote=\"0\" comment=\"4\" comment_anonym=\"0\" scrap_count=\"0\" user_type=\"\" user_id=\"0\" user_nickname=\"익명\" user_picture=\"https://cf-fpi.everytime.kr/0.png\"/>\n",
            "</response>\n"
          ],
          "name": "stdout"
        }
      ]
    },
    {
      "cell_type": "code",
      "metadata": {
        "id": "ZDV2_Gz8gT02",
        "colab_type": "code",
        "colab": {
          "base_uri": "https://localhost:8080/",
          "height": 717
        },
        "outputId": "7318233e-3ab5-44c2-e48a-b01e22f5556e"
      },
      "source": [
        "    soup = BeautifulSoup(everytime_board_list.text, 'html.parser')\n",
        "\n",
        "    articles = soup.find_all('article')\n",
        "\n",
        "    index = 0\n",
        "    for article in articles:\n",
        "      index += 1\n",
        "      print(index)\n",
        "      print(article['title'])"
      ],
      "execution_count": 44,
      "outputs": [
        {
          "output_type": "stream",
          "text": [
            "1\n",
            "집에 가루응애 나온 적 있냐,,,\n",
            "2\n",
            "여친이 전남친이랑 3달동안 알바했대\n",
            "3\n",
            "위넌 스카 사물함\n",
            "4\n",
            "소비자와 시장\n",
            "5\n",
            "사귈때\n",
            "6\n",
            "송준 중급미시\n",
            "7\n",
            "보수는 진짜\n",
            "8\n",
            "Ai활용과 기초\n",
            "9\n",
            "교수님 감사합니다\n",
            "10\n",
            "장혜인 교수님 학점 비율\n",
            "11\n",
            "일반적인 포멧으로 하라는거면 한글 10포이트야?\n",
            "12\n",
            "경정처.. Dss는 경영정보시스템보다\n",
            "13\n",
            "미문개 한 작품만으로 700단어를 채우는게\n",
            "14\n",
            "워드 줄간격 0.9가 기본 디폴트야??\n",
            "15\n",
            "게하는 대부분\n",
            "16\n",
            "스사문 진짜 너무 화난다\n",
            "17\n",
            "경정처 한민희 교수님\n",
            "18\n",
            "이번주 운건\n",
            "19\n",
            "회계 포괄손익계산서에서\n",
            "20\n",
            "운동인분들\n"
          ],
          "name": "stdout"
        }
      ]
    }
  ]
}