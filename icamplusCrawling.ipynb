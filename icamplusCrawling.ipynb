{
  "nbformat": 4,
  "nbformat_minor": 0,
  "metadata": {
    "colab": {
      "name": "Untitled0.ipynb",
      "provenance": [],
      "collapsed_sections": [],
      "authorship_tag": "ABX9TyON0CL3nQorjjnv/gdLliik",
      "include_colab_link": true
    },
    "kernelspec": {
      "name": "python3",
      "display_name": "Python 3"
    }
  },
  "cells": [
    {
      "cell_type": "markdown",
      "metadata": {
        "id": "view-in-github",
        "colab_type": "text"
      },
      "source": [
        "<a href=\"https://colab.research.google.com/github/ruthetum/crawling-python/blob/master/icamplusCrawling.ipynb\" target=\"_parent\"><img src=\"https://colab.research.google.com/assets/colab-badge.svg\" alt=\"Open In Colab\"/></a>"
      ]
    },
    {
      "cell_type": "code",
      "metadata": {
        "id": "H3imwyAZlNQ3",
        "colab_type": "code",
        "colab": {}
      },
      "source": [
        "import requests\n",
        "from bs4 import BeautifulSoup\n",
        "import json\n",
        "\n",
        "login_url = 'https://icampus.skku.edu/xn-sso/login.php?auto_login=true&sso_only=true&cvs_lgn=&return_url=https%3A%2F%2Ficampus.skku.edu%2Fxn-sso%2Fgw-cb.php%3Ffrom%3Dweb_redirect%26login_type%3Dstandalone%26return_url%3Dhttps%253A%252F%252Ficampus.skku.edu%252Flogin%252Fcallback'\n",
        "login_check_url = 'https://icampus.skku.edu/xn-sso/customs/pages/logon-url.php'\n",
        "mypage_url = 'https://everytime.kr/370444/p/1'\n",
        "\n",
        "user = '아이디'\n",
        "password = '비밀번호'"
      ],
      "execution_count": 0,
      "outputs": []
    },
    {
      "cell_type": "code",
      "metadata": {
        "id": "kkg7PekslQPq",
        "colab_type": "code",
        "colab": {}
      },
      "source": [
        "session = requests.session()\n",
        "\n",
        "login_data = {\n",
        "    'userid': 'r',\n",
        "    'password': 'd',\n",
        "}"
      ],
      "execution_count": 0,
      "outputs": []
    },
    {
      "cell_type": "code",
      "metadata": {
        "id": "E7oSscLolQT0",
        "colab_type": "code",
        "colab": {
          "base_uri": "https://localhost:8080/",
          "height": 34
        },
        "outputId": "70cd1e62-e092-4a4f-f6b4-1734c0bfe212"
      },
      "source": [
        "with requests.Session() as s:\n",
        "    main_req = s.post(login_url)\n",
        "    html = main_req.text\n",
        "    obj = BeautifulSoup(html, 'html.parser')\n",
        "    auth_token = obj.find('input', {'name': 'login_form_token'})['value']\n",
        "\n",
        "    login_req = s.post(login_check_url, login_data)\n",
        "\n",
        "    print(login_req.text)"
      ],
      "execution_count": 9,
      "outputs": [
        {
          "output_type": "stream",
          "text": [
            "{\"error\":\"invalid input\"}\n"
          ],
          "name": "stdout"
        }
      ]
    }
  ]
}